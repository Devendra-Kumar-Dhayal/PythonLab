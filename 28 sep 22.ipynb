{
 "cells": [
  {
   "cell_type": "markdown",
   "id": "0dbb6a65",
   "metadata": {},
   "source": [
    "# 4. Functions"
   ]
  },
  {
   "cell_type": "markdown",
   "id": "d6771fda",
   "metadata": {},
   "source": [
    "4.1 WAP in Python to make a Simple Calculator using function"
   ]
  },
  {
   "cell_type": "markdown",
   "id": "1de46990",
   "metadata": {},
   "source": [
    "functions for calculator"
   ]
  },
  {
   "cell_type": "code",
   "execution_count": 1,
   "id": "e7fc9cf3",
   "metadata": {},
   "outputs": [],
   "source": [
    "def add(a,b):\n",
    "    return a+b\n",
    "def mult(a,b):\n",
    "    return a*b\n",
    "def div(a,b):\n",
    "    return a/b\n",
    "def sub(a,b):\n",
    "    return a-b"
   ]
  },
  {
   "cell_type": "markdown",
   "id": "4167a9f0",
   "metadata": {},
   "source": [
    "calculator"
   ]
  },
  {
   "cell_type": "code",
   "execution_count": 2,
   "id": "2d3bab3b",
   "metadata": {},
   "outputs": [],
   "source": [
    "def calc():\n",
    "    a,b=int(input(\"Enter number:\")),int(input(\"Enter number:\"))\n",
    "    u = int(input(\"add(1) substract(2) multiply(3) divide(4)\"))\n",
    "    if u==1:print(add(a,b))\n",
    "    elif u==2:print(sub(a,b))\n",
    "    elif u==3:print(mult(a,b))\n",
    "    elif u==4:print(div(a,b))\n",
    "    else:print(\"not right input choice\")"
   ]
  },
  {
   "cell_type": "code",
   "execution_count": 3,
   "id": "e84f343c",
   "metadata": {},
   "outputs": [
    {
     "name": "stdout",
     "output_type": "stream",
     "text": [
      "Enter number:2\n",
      "Enter number:2\n",
      "add(1) substract(2) multiply(3) divide(4)1\n",
      "4\n",
      "want to continue or not:not\n"
     ]
    }
   ],
   "source": [
    "while True:\n",
    "    calc()\n",
    "    u = input(\"want to continue or not:\")\n",
    "    if u==\"continue\":\n",
    "        continue\n",
    "    if u==\"not\":\n",
    "        break\n",
    "    else:\n",
    "        print(\"invalid input restarting\")"
   ]
  },
  {
   "cell_type": "markdown",
   "id": "bb721a14",
   "metadata": {},
   "source": [
    "4.2 WAP in python to print LCM and HCF for the given numbers"
   ]
  },
  {
   "cell_type": "code",
   "execution_count": 6,
   "id": "dd3d9fe4",
   "metadata": {},
   "outputs": [
    {
     "ename": "TypeError",
     "evalue": "unsupported operand type(s) for %: 'tuple' and 'tuple'",
     "output_type": "error",
     "traceback": [
      "\u001b[1;31m---------------------------------------------------------------------------\u001b[0m",
      "\u001b[1;31mTypeError\u001b[0m                                 Traceback (most recent call last)",
      "Input \u001b[1;32mIn [6]\u001b[0m, in \u001b[0;36m<cell line: 15>\u001b[1;34m()\u001b[0m\n\u001b[0;32m     13\u001b[0m         temp \u001b[38;5;241m=\u001b[39m gcd(temp,i)\n\u001b[0;32m     14\u001b[0m     \u001b[38;5;28;01mreturn\u001b[39;00m temp\n\u001b[1;32m---> 15\u001b[0m \u001b[38;5;28mprint\u001b[39m(\u001b[43mlcm\u001b[49m\u001b[43m(\u001b[49m\u001b[38;5;241;43m5\u001b[39;49m\u001b[43m,\u001b[49m\u001b[38;5;241;43m12\u001b[39;49m\u001b[43m)\u001b[49m)\n",
      "Input \u001b[1;32mIn [6]\u001b[0m, in \u001b[0;36mlcm\u001b[1;34m(*args)\u001b[0m\n\u001b[0;32m      1\u001b[0m \u001b[38;5;28;01mdef\u001b[39;00m \u001b[38;5;21mlcm\u001b[39m(\u001b[38;5;241m*\u001b[39margs):\n\u001b[1;32m----> 2\u001b[0m     temp \u001b[38;5;241m=\u001b[39m\u001b[38;5;28mint\u001b[39m(\u001b[38;5;241m1\u001b[39m\u001b[38;5;241m/\u001b[39m\u001b[43mhcf\u001b[49m\u001b[43m(\u001b[49m\u001b[43margs\u001b[49m\u001b[43m)\u001b[49m) \n\u001b[0;32m      3\u001b[0m     \u001b[38;5;28;01mfor\u001b[39;00m arg \u001b[38;5;129;01min\u001b[39;00m args:\n\u001b[0;32m      4\u001b[0m         temp\u001b[38;5;241m*\u001b[39m\u001b[38;5;241m=\u001b[39marg\n",
      "Input \u001b[1;32mIn [6]\u001b[0m, in \u001b[0;36mhcf\u001b[1;34m(*args)\u001b[0m\n\u001b[0;32m     11\u001b[0m temp\u001b[38;5;241m=\u001b[39m args[\u001b[38;5;241m0\u001b[39m]\n\u001b[0;32m     12\u001b[0m \u001b[38;5;28;01mfor\u001b[39;00m i \u001b[38;5;129;01min\u001b[39;00m args:\n\u001b[1;32m---> 13\u001b[0m     temp \u001b[38;5;241m=\u001b[39m \u001b[43mgcd\u001b[49m\u001b[43m(\u001b[49m\u001b[43mtemp\u001b[49m\u001b[43m,\u001b[49m\u001b[43mi\u001b[49m\u001b[43m)\u001b[49m\n\u001b[0;32m     14\u001b[0m \u001b[38;5;28;01mreturn\u001b[39;00m temp\n",
      "Input \u001b[1;32mIn [6]\u001b[0m, in \u001b[0;36mgcd\u001b[1;34m(x, y)\u001b[0m\n\u001b[0;32m      6\u001b[0m \u001b[38;5;28;01mdef\u001b[39;00m \u001b[38;5;21mgcd\u001b[39m(x, y):\n\u001b[0;32m      7\u001b[0m     \u001b[38;5;28;01mwhile\u001b[39;00m y \u001b[38;5;241m!=\u001b[39m \u001b[38;5;241m0\u001b[39m:\n\u001b[1;32m----> 8\u001b[0m         x, y \u001b[38;5;241m=\u001b[39m y, \u001b[43mx\u001b[49m\u001b[43m \u001b[49m\u001b[38;5;241;43m%\u001b[39;49m\u001b[43m \u001b[49m\u001b[43my\u001b[49m\n\u001b[0;32m      9\u001b[0m     \u001b[38;5;28;01mreturn\u001b[39;00m x\n",
      "\u001b[1;31mTypeError\u001b[0m: unsupported operand type(s) for %: 'tuple' and 'tuple'"
     ]
    }
   ],
   "source": [
    "def lcm(*args):\n",
    "    temp =int(1/hcf(args)) \n",
    "    for arg in args:\n",
    "        temp*=arg\n",
    "    return int(temp)\n",
    "def gcd(x, y):\n",
    "    while y != 0:\n",
    "        x, y = y, x % y\n",
    "    return x\n",
    "def hcf(*args):\n",
    "    temp= args[0]\n",
    "    for i in args:\n",
    "        temp = gcd(temp,i)\n",
    "    return temp\n",
    "\n",
    "    \n",
    "    "
   ]
  },
  {
   "cell_type": "markdown",
   "id": "43be1cc9",
   "metadata": {},
   "source": [
    "4.3 WAP in python to print factorial of a number using recursion"
   ]
  },
  {
   "cell_type": "code",
   "execution_count": 10,
   "id": "0a4dc468",
   "metadata": {},
   "outputs": [],
   "source": [
    "def fac(a):\n",
    "    if a==1:\n",
    "        return 1\n",
    "    else:\n",
    "        return a*fac(a-1)"
   ]
  },
  {
   "cell_type": "code",
   "execution_count": 11,
   "id": "418b5391",
   "metadata": {},
   "outputs": [
    {
     "name": "stdout",
     "output_type": "stream",
     "text": [
      "120\n"
     ]
    }
   ],
   "source": [
    "print(fac(5))"
   ]
  },
  {
   "cell_type": "markdown",
   "id": "2de0cf98",
   "metadata": {},
   "source": [
    "4.4 WAP in python to print Fibonacci series up to nth term using recursion"
   ]
  },
  {
   "cell_type": "code",
   "execution_count": 18,
   "id": "615188c6",
   "metadata": {},
   "outputs": [],
   "source": [
    "def fib(n):\n",
    "    if n ==1:\n",
    "        return 1\n",
    "    if n ==2:\n",
    "        return 1\n",
    "    else :\n",
    "        return fib(n-1)+fib(n-2)"
   ]
  },
  {
   "cell_type": "code",
   "execution_count": 22,
   "id": "3be3d3e5",
   "metadata": {},
   "outputs": [
    {
     "name": "stdout",
     "output_type": "stream",
     "text": [
      "enter no.:5\n",
      "1\n",
      "1\n",
      "2\n",
      "3\n",
      "5\n"
     ]
    }
   ],
   "source": [
    "u = int(input(\"enter no.:\"))\n",
    "for i in range(1,u+1):\n",
    "    print(fib(i))"
   ]
  },
  {
   "cell_type": "markdown",
   "id": "499f6efd",
   "metadata": {},
   "source": [
    "bubble sort"
   ]
  },
  {
   "cell_type": "code",
   "execution_count": 40,
   "id": "11c99a1d",
   "metadata": {},
   "outputs": [],
   "source": [
    "def bubble(a):\n",
    "    \n",
    "    for j in range(0,len(a)):\n",
    "        for i in range(j+1,len(a)):\n",
    "            if a[j]>a[i]:\n",
    "                a[i],a[j]=a[j],a[i]\n",
    "                 \n",
    "    return a\n",
    "    "
   ]
  },
  {
   "cell_type": "code",
   "execution_count": 41,
   "id": "58559364",
   "metadata": {},
   "outputs": [
    {
     "name": "stdout",
     "output_type": "stream",
     "text": [
      "[0, 3, 6, 7, 8, 9, 12, 34, 67, 544]\n"
     ]
    }
   ],
   "source": [
    "a= [12,544,7,8,9,0,67,6,3,34]\n",
    "b= bubble(a)\n",
    "print(b)"
   ]
  },
  {
   "cell_type": "code",
   "execution_count": null,
   "id": "89affc5b",
   "metadata": {},
   "outputs": [],
   "source": [
    "def addmat(a,b):\n",
    "    for i in range(0,len(a)):\n",
    "        a[i]+=b[i]\n",
    "    return a"
   ]
  },
  {
   "cell_type": "code",
   "execution_count": null,
   "id": "b36d9640",
   "metadata": {},
   "outputs": [],
   "source": [
    "def multmat(a,b):\n",
    "    c=[[]]\n",
    "    for i range(0,len(a)):\n",
    "        for k in range(0,len(b)):\n",
    "            sum=0\n",
    "            for j in range(0,len(c)):\n",
    "                sum+= b[k][j]+a[i][k]\n",
    "            c[i][k]= sum\n",
    "    return c"
   ]
  }
 ],
 "metadata": {
  "kernelspec": {
   "display_name": "Python 3 (ipykernel)",
   "language": "python",
   "name": "python3"
  },
  "language_info": {
   "codemirror_mode": {
    "name": "ipython",
    "version": 3
   },
   "file_extension": ".py",
   "mimetype": "text/x-python",
   "name": "python",
   "nbconvert_exporter": "python",
   "pygments_lexer": "ipython3",
   "version": "3.8.4"
  }
 },
 "nbformat": 4,
 "nbformat_minor": 5
}
