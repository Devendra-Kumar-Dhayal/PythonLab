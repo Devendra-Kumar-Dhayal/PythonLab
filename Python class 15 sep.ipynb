{
 "cells": [
  {
   "cell_type": "code",
   "execution_count": 1,
   "id": "3d233f2d",
   "metadata": {},
   "outputs": [],
   "source": [
    "x= 10 \n",
    "y=10"
   ]
  },
  {
   "cell_type": "code",
   "execution_count": 3,
   "id": "cded5ff8",
   "metadata": {},
   "outputs": [
    {
     "name": "stdout",
     "output_type": "stream",
     "text": [
      "True\n"
     ]
    }
   ],
   "source": [
    "print(x is y)"
   ]
  },
  {
   "cell_type": "code",
   "execution_count": 8,
   "id": "fa31c02b",
   "metadata": {},
   "outputs": [
    {
     "name": "stdout",
     "output_type": "stream",
     "text": [
      "y\n"
     ]
    }
   ],
   "source": [
    "y=4\n",
    "x=10\n",
    "lst = [5,7,10,9]\n",
    "if y not in lst:\n",
    "    print(\"y\")\n",
    "else: \n",
    "    print(\"N\")"
   ]
  },
  {
   "cell_type": "code",
   "execution_count": 10,
   "id": "6695c03a",
   "metadata": {},
   "outputs": [
    {
     "name": "stdout",
     "output_type": "stream",
     "text": [
      "enter num151\n",
      "y\n"
     ]
    }
   ],
   "source": [
    "y  = int(input(\"enter num\"))\n",
    "temp =y\n",
    "z=0\n",
    "while temp>0:\n",
    "    z=z*10+int(temp%10)\n",
    "    temp= int(temp/10)\n",
    "if z==y:\n",
    "    print(\"y\")\n",
    "else:\n",
    "    print(\"N\")"
   ]
  },
  {
   "cell_type": "code",
   "execution_count": 12,
   "id": "4a95bc6f",
   "metadata": {},
   "outputs": [
    {
     "name": "stdout",
     "output_type": "stream",
     "text": [
      "enter the string weqwe\n",
      "N\n"
     ]
    }
   ],
   "source": [
    "y = input(\"enter the string \")\n",
    "z=\"\"\n",
    "for i in range(1,len(y)+1):\n",
    "    z=z+y[-i]\n",
    "if z==y:\n",
    "    print(\"Y\")\n",
    "else:\n",
    "    print(\"N\")\n",
    "    "
   ]
  },
  {
   "cell_type": "code",
   "execution_count": null,
   "id": "062de4e6",
   "metadata": {},
   "outputs": [],
   "source": []
  }
 ],
 "metadata": {
  "kernelspec": {
   "display_name": "Python 3 (ipykernel)",
   "language": "python",
   "name": "python3"
  },
  "language_info": {
   "codemirror_mode": {
    "name": "ipython",
    "version": 3
   },
   "file_extension": ".py",
   "mimetype": "text/x-python",
   "name": "python",
   "nbconvert_exporter": "python",
   "pygments_lexer": "ipython3",
   "version": "3.8.4"
  }
 },
 "nbformat": 4,
 "nbformat_minor": 5
}
