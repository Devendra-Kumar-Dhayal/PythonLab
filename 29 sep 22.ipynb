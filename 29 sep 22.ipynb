{
 "cells": [
  {
   "cell_type": "markdown",
   "id": "58d3b3d9",
   "metadata": {},
   "source": [
    "# Functions in python (yaey!!)"
   ]
  },
  {
   "cell_type": "markdown",
   "id": "c32087b0",
   "metadata": {},
   "source": [
    "simple funciton"
   ]
  },
  {
   "cell_type": "code",
   "execution_count": null,
   "id": "074722c6",
   "metadata": {},
   "outputs": [],
   "source": [
    "def greet():\n",
    "    print(\"Hello World\")"
   ]
  },
  {
   "cell_type": "markdown",
   "id": "da264e53",
   "metadata": {},
   "source": [
    "funtion with imput"
   ]
  },
  {
   "cell_type": "code",
   "execution_count": null,
   "id": "66d00a52",
   "metadata": {},
   "outputs": [],
   "source": [
    "def name(name, name2):\n",
    "    print(\"hello\", name,\" and \", name2)\n"
   ]
  },
  {
   "cell_type": "markdown",
   "id": "6779d780",
   "metadata": {},
   "source": [
    "funtions with variable arguments "
   ]
  },
  {
   "cell_type": "code",
   "execution_count": null,
   "id": "78384adc",
   "metadata": {},
   "outputs": [],
   "source": [
    "def name(*name):\n",
    "    for i in name:\n",
    "        print(\"Hello \", i)"
   ]
  },
  {
   "cell_type": "markdown",
   "id": "dfbf3d9f",
   "metadata": {},
   "source": [
    "functions with default value input"
   ]
  },
  {
   "cell_type": "code",
   "execution_count": null,
   "id": "3e3c35e7",
   "metadata": {},
   "outputs": [],
   "source": [
    "def name(name= \"GOD\"):\n",
    "    print(\"Hello \",name)"
   ]
  },
  {
   "cell_type": "markdown",
   "id": "4d7cae78",
   "metadata": {},
   "source": [
    "self refrencing funcitons (recursive funcitons )"
   ]
  },
  {
   "cell_type": "code",
   "execution_count": null,
   "id": "2743c713",
   "metadata": {},
   "outputs": [],
   "source": [
    "def fib(n):           #find the nth fibonacci element \n",
    "    if n==1:\n",
    "        return 1\n",
    "    elif n==2:\n",
    "        return 1\n",
    "    else:\n",
    "        return (fib(n-1)+fib(n-2))"
   ]
  },
  {
   "cell_type": "code",
   "execution_count": null,
   "id": "9f3ac20f",
   "metadata": {},
   "outputs": [],
   "source": []
  }
 ],
 "metadata": {
  "kernelspec": {
   "display_name": "Python 3 (ipykernel)",
   "language": "python",
   "name": "python3"
  },
  "language_info": {
   "codemirror_mode": {
    "name": "ipython",
    "version": 3
   },
   "file_extension": ".py",
   "mimetype": "text/x-python",
   "name": "python",
   "nbconvert_exporter": "python",
   "pygments_lexer": "ipython3",
   "version": "3.8.4"
  }
 },
 "nbformat": 4,
 "nbformat_minor": 5
}
