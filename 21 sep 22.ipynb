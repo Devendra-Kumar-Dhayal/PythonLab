{
 "cells": [
  {
   "cell_type": "code",
   "execution_count": 4,
   "id": "9340bd0c",
   "metadata": {},
   "outputs": [
    {
     "name": "stdout",
     "output_type": "stream",
     "text": [
      "\n",
      "*\n",
      "**\n",
      "***"
     ]
    }
   ],
   "source": [
    "for i in range(1,4):\n",
    "    print()\n",
    "    for j in range(1,i+1):\n",
    "        print(\"*\",end=\"\")\n",
    "        "
   ]
  },
  {
   "cell_type": "code",
   "execution_count": 6,
   "id": "d0474ffb",
   "metadata": {},
   "outputs": [
    {
     "name": "stdout",
     "output_type": "stream",
     "text": [
      "\n",
      "1 \n",
      "1 2 \n",
      "1 2 3 "
     ]
    }
   ],
   "source": [
    "for i in range(1,4):\n",
    "    print()\n",
    "    for j in range(1,i+1):\n",
    "        print(j,\"\",end=\"\")"
   ]
  },
  {
   "cell_type": "code",
   "execution_count": 7,
   "id": "88f1e455",
   "metadata": {},
   "outputs": [
    {
     "name": "stdout",
     "output_type": "stream",
     "text": [
      "\n",
      "1 \n",
      "2 3 \n",
      "4 5 6 "
     ]
    }
   ],
   "source": [
    "temp=1\n",
    "for i in range(1,4):\n",
    "    print()\n",
    "    for j in range(1,i+1):\n",
    "        print(temp,\"\",end=\"\")\n",
    "        temp+=1"
   ]
  },
  {
   "cell_type": "code",
   "execution_count": 60,
   "id": "9888fc57",
   "metadata": {},
   "outputs": [
    {
     "name": "stdout",
     "output_type": "stream",
     "text": [
      "\n",
      "    *\n",
      "   ***\n",
      "  *****\n",
      " *******\n",
      "  *****\n",
      "   ***\n",
      "    *"
     ]
    }
   ],
   "source": [
    "for i in range(1,5):\n",
    "    print()\n",
    "    n =2*(i)\n",
    "    for k in range(1,6-i):\n",
    "        print(\" \",end=\"\")\n",
    "    for j in range(1,n):\n",
    "        print(\"*\",end=\"\")\n",
    "\n",
    "for i in range(1,4):\n",
    "    n=2*(5-i)\n",
    "    print()\n",
    "    print(\" \",end=\"\")\n",
    "    for k in range(1,i+1):\n",
    "        print(\" \",end=\"\")\n",
    "    for j in  range(1,n-2):\n",
    "        print(\"*\",end=\"\")\n",
    "\n",
    "        "
   ]
  },
  {
   "cell_type": "code",
   "execution_count": 19,
   "id": "ff8092d9",
   "metadata": {},
   "outputs": [
    {
     "name": "stdout",
     "output_type": "stream",
     "text": [
      "\n",
      "   **\n",
      "   **\n",
      "  ****\n",
      "  ****\n",
      " ******\n",
      " ******"
     ]
    }
   ],
   "source": [
    "for i in range(1,4):\n",
    "    print()\n",
    "    n =2*(i)+1\n",
    "    for k in range(1,5-i):\n",
    "        print(\" \",end=\"\")\n",
    "    for j in range(1,n):\n",
    "        print(\"*\",end=\"\")\n",
    "    print()\n",
    "    for k in range(1,5-i):\n",
    "        print(\" \",end=\"\")\n",
    "    for j in range(1,n):\n",
    "        print(\"*\",end=\"\")"
   ]
  },
  {
   "cell_type": "code",
   "execution_count": 23,
   "id": "641b477f",
   "metadata": {},
   "outputs": [
    {
     "name": "stdout",
     "output_type": "stream",
     "text": [
      "Enter a number:153\n",
      "yes armstrong\n"
     ]
    }
   ],
   "source": [
    "u = int(input(\"Enter a number:\"))\n",
    "sum=0\n",
    "temp=u\n",
    "while temp>0:\n",
    "    sum=sum+(temp%10)**3\n",
    "    temp=int(temp/10)\n",
    "if sum==u:\n",
    "    print(\"yes armstrong\")\n",
    "else :\n",
    "    print(\"not armstrong\")"
   ]
  },
  {
   "cell_type": "code",
   "execution_count": 1,
   "id": "9e892122",
   "metadata": {},
   "outputs": [
    {
     "name": "stdout",
     "output_type": "stream",
     "text": [
      "Enter a number:1\n",
      "1\n"
     ]
    }
   ],
   "source": [
    "u = int(input(\"Enter a number:\"))\n",
    "temp=1\n",
    "for i in range(2,u+1):\n",
    "    temp= temp*i\n",
    "print(temp)"
   ]
  },
  {
   "cell_type": "code",
   "execution_count": 27,
   "id": "9573d152",
   "metadata": {},
   "outputs": [
    {
     "name": "stdout",
     "output_type": "stream",
     "text": [
      "Enter a number:3\n",
      "sum till nth natural number: 6\n"
     ]
    }
   ],
   "source": [
    "u = int(input(\"Enter a number:\"))\n",
    "print(\"sum till nth natural number:\",int(u*(u+1)/2))"
   ]
  },
  {
   "cell_type": "code",
   "execution_count": 32,
   "id": "6e444914",
   "metadata": {},
   "outputs": [
    {
     "name": "stdout",
     "output_type": "stream",
     "text": [
      "Enter a number:23\n",
      "\n",
      "-2\n",
      "-2\n",
      "-2\n",
      "-2\n",
      "-2\n",
      "-2\n",
      "-2\n",
      "u is less than 2\n"
     ]
    }
   ],
   "source": [
    "u = int(input(\"Enter a number:\"))\n",
    "while True:\n",
    "    if u<10:\n",
    "        print(\"u is less than 2\")\n",
    "        break\n",
    "    else:\n",
    "        u-=2\n",
    "        print(\"-2\",end=\"\")\n",
    "        continue"
   ]
  },
  {
   "cell_type": "code",
   "execution_count": null,
   "id": "84239a60",
   "metadata": {},
   "outputs": [],
   "source": []
  }
 ],
 "metadata": {
  "kernelspec": {
   "display_name": "Python 3 (ipykernel)",
   "language": "python",
   "name": "python3"
  },
  "language_info": {
   "codemirror_mode": {
    "name": "ipython",
    "version": 3
   },
   "file_extension": ".py",
   "mimetype": "text/x-python",
   "name": "python",
   "nbconvert_exporter": "python",
   "pygments_lexer": "ipython3",
   "version": "3.8.4"
  }
 },
 "nbformat": 4,
 "nbformat_minor": 5
}
