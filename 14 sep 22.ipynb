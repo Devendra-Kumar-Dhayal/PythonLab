{
 "cells": [
  {
   "cell_type": "code",
   "execution_count": 1,
   "id": "e60dad8b",
   "metadata": {},
   "outputs": [
    {
     "name": "stdout",
     "output_type": "stream",
     "text": [
      "enter no34\n",
      "even\n"
     ]
    }
   ],
   "source": [
    "print(\"hello world\")"
   ]
  },
  {
   "cell_type": "code",
   "execution_count": 2,
   "id": "2c9847eb",
   "metadata": {},
   "outputs": [
    {
     "name": "stdout",
     "output_type": "stream",
     "text": [
      "enter the length of the rectangle2\n",
      "enter the bredth of the rectangle3\n",
      "Area of rectangle : 6\n"
     ]
    }
   ],
   "source": [
    "l = int(input(\"enter the length of the rectangle\"))\n",
    "b = int(input(\"enter the bredth of the rectangle\"))\n",
    "print(\"Area of rectangle :\" , l*b)"
   ]
  },
  {
   "cell_type": "code",
   "execution_count": 3,
   "id": "219c88e3",
   "metadata": {},
   "outputs": [
    {
     "name": "stdout",
     "output_type": "stream",
     "text": [
      "enter first number1\n",
      "enter second number2\n",
      "the interchanged value of : first :  2 second :  1\n"
     ]
    }
   ],
   "source": [
    "a = int(input(\"enter first number\"))\n",
    "b = int(input(\"enter second number\"))\n",
    "c = a  \n",
    "a = b\n",
    "b= c \n",
    "print(\"the interchanged value of :\",\"first : \", a,\"second : \" ,b)"
   ]
  },
  {
   "cell_type": "code",
   "execution_count": 4,
   "id": "2b2ba079",
   "metadata": {},
   "outputs": [
    {
     "name": "stdout",
     "output_type": "stream",
     "text": [
      "enter a number:4\n",
      "square root : 2.0\n"
     ]
    }
   ],
   "source": [
    "num =  int(input(\"enter a number:\"))\n",
    "print(\"square root :\", num**0.5 )"
   ]
  },
  {
   "cell_type": "code",
   "execution_count": 5,
   "id": "4558aeb2",
   "metadata": {},
   "outputs": [
    {
     "name": "stdout",
     "output_type": "stream",
     "text": [
      "enter weight in kg:1\n",
      "weight in pounds :  2.205\n"
     ]
    }
   ],
   "source": [
    "num =  int(input(\"enter weight in kg:\"))\n",
    "print(\"weight in pounds : \", 2.205*num)\n"
   ]
  },
  {
   "cell_type": "code",
   "execution_count": 6,
   "id": "cdb89c60",
   "metadata": {},
   "outputs": [
    {
     "name": "stdout",
     "output_type": "stream",
     "text": [
      "enter no3\n",
      "odd\n"
     ]
    }
   ],
   "source": [
    "num = int(input(\"enter no\"))\n",
    "if num%2 ==0:\n",
    "    print(\"even\")\n",
    "else :\n",
    "    print(\"odd\")"
   ]
  },
  {
   "cell_type": "code",
   "execution_count": 9,
   "id": "35791172",
   "metadata": {},
   "outputs": [
    {
     "name": "stdout",
     "output_type": "stream",
     "text": [
      "enter 1st no:1\n",
      "enter 2nd no:2\n",
      "enter 3rd no:3\n",
      "largest is : 3\n"
     ]
    }
   ],
   "source": [
    "num = int(input(\"enter 1st no:\"))\n",
    "num2 = int(input(\"enter 2nd no:\"))\n",
    "num3 = int(input(\"enter 3rd no:\"))\n",
    "if (num>num2 and num>num3):\n",
    "    print(\"largest is :\", num)\n",
    "elif(num2>num and num2>num3):\n",
    "    print(\"largest is :\", num2)\n",
    "elif(num3>num and num3>num2):\n",
    "    print(\"largest is :\", num3)\n",
    "else:\n",
    "    print(\"number are equal \")"
   ]
  },
  {
   "cell_type": "code",
   "execution_count": 1,
   "id": "3747f628",
   "metadata": {},
   "outputs": [
    {
     "name": "stdout",
     "output_type": "stream",
     "text": [
      "enter year :1900\n",
      "not a leap year\n"
     ]
    }
   ],
   "source": [
    "year = int(input(\"enter year :\"))\n",
    "if (year%400 ==0):\n",
    "    print(\"leap year\")\n",
    "elif year% 100 ==0 :\n",
    "    print(\"not a leap year\")\n",
    "elif year%4 == 0:\n",
    "    print(\"leap year\")\n",
    "else :\n",
    "    print(\"not a leap year\")\n",
    "    \n",
    "    "
   ]
  },
  {
   "cell_type": "code",
   "execution_count": 21,
   "id": "5b7dad42",
   "metadata": {},
   "outputs": [
    {
     "name": "stdout",
     "output_type": "stream",
     "text": [
      "enter the number till which we need to print fibonacci series :3\n",
      "0\n",
      "1\n",
      "1\n",
      "2\n"
     ]
    }
   ],
   "source": [
    "num  = int(input(\"enter the number till which we need to print fibonacci series :\"))\n",
    "\n",
    "\n",
    "temp  = 0\n",
    "if num >=1:\n",
    "    print(temp)\n",
    "temp1 = 1\n",
    "if num >=2:\n",
    "    print(temp1)\n",
    "if num>2:\n",
    "    for i in range(num-2):\n",
    "        temp =temp +temp1\n",
    "        print(temp)\n",
    "        temp1 = temp +temp1\n",
    "        \n",
    "        print(temp1)"
   ]
  },
  {
   "cell_type": "code",
   "execution_count": 4,
   "id": "ecb1a22f",
   "metadata": {},
   "outputs": [
    {
     "name": "stdout",
     "output_type": "stream",
     "text": [
      "enter the number :153\n",
      "armstrong\n"
     ]
    }
   ],
   "source": [
    "num =  int(input(\"enter the number :\"))\n",
    "sum =0 \n",
    "temp =num\n",
    "while temp >0:\n",
    "    sum = sum + (temp%10)**3\n",
    "    temp = temp//10\n",
    "if sum == num:\n",
    "    print(\"armstrong\")\n",
    "else:\n",
    "    print(\"not armstrong\")\n",
    "    "
   ]
  },
  {
   "cell_type": "code",
   "execution_count": null,
   "id": "2ef1f7f9",
   "metadata": {},
   "outputs": [],
   "source": []
  },
  {
   "cell_type": "code",
   "execution_count": null,
   "id": "af7c2b03",
   "metadata": {},
   "outputs": [],
   "source": []
  }
 ],
 "metadata": {
  "kernelspec": {
   "display_name": "Python 3 (ipykernel)",
   "language": "python",
   "name": "python3"
  },
  "language_info": {
   "codemirror_mode": {
    "name": "ipython",
    "version": 3
   },
   "file_extension": ".py",
   "mimetype": "text/x-python",
   "name": "python",
   "nbconvert_exporter": "python",
   "pygments_lexer": "ipython3",
   "version": "3.8.4"
  }
 },
 "nbformat": 4,
 "nbformat_minor": 5
}
