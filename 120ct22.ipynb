{
 "cells": [
  {
   "cell_type": "markdown",
   "id": "eb800620",
   "metadata": {},
   "source": [
    "5.1 WAP to demonstrate concept of class and object"
   ]
  },
  {
   "cell_type": "code",
   "execution_count": 6,
   "id": "3a3ba08c",
   "metadata": {},
   "outputs": [
    {
     "name": "stdout",
     "output_type": "stream",
     "text": [
      "10\n",
      "Hello\n"
     ]
    }
   ],
   "source": [
    "class Human:\n",
    "    \"This is a person class\"\n",
    "    age = 10\n",
    "\n",
    "    def hello(self):\n",
    "        print('Hello')\n",
    "\n",
    "print(Human.age)\n",
    "Human.hello(Human())"
   ]
  },
  {
   "cell_type": "markdown",
   "id": "ea0d0b4e",
   "metadata": {},
   "source": [
    "5.2 WAP to demonstrate the concept of multilevel inheritence "
   ]
  },
  {
   "cell_type": "code",
   "execution_count": 7,
   "id": "8f541350",
   "metadata": {},
   "outputs": [
    {
     "name": "stdout",
     "output_type": "stream",
     "text": [
      "10\n",
      "Hello\n"
     ]
    }
   ],
   "source": [
    "class Human:\n",
    "    \"This is a person class\"\n",
    "    age = 10\n",
    "\n",
    "    def hello(self):\n",
    "        print('Helloh')\n",
    "\n",
    "print(Human.age)\n",
    "Human.hello(Human())"
   ]
  },
  {
   "cell_type": "code",
   "execution_count": 8,
   "id": "33bf8638",
   "metadata": {},
   "outputs": [],
   "source": [
    "class Child(Human) :\n",
    "    age = 5"
   ]
  },
  {
   "cell_type": "code",
   "execution_count": 10,
   "id": "243d3044",
   "metadata": {},
   "outputs": [],
   "source": [
    "class GrandChild(Child) :\n",
    "    age = 1"
   ]
  },
  {
   "cell_type": "code",
   "execution_count": null,
   "id": "d39c5af8",
   "metadata": {},
   "outputs": [],
   "source": []
  }
 ],
 "metadata": {
  "kernelspec": {
   "display_name": "Python 3 (ipykernel)",
   "language": "python",
   "name": "python3"
  },
  "language_info": {
   "codemirror_mode": {
    "name": "ipython",
    "version": 3
   },
   "file_extension": ".py",
   "mimetype": "text/x-python",
   "name": "python",
   "nbconvert_exporter": "python",
   "pygments_lexer": "ipython3",
   "version": "3.8.4"
  }
 },
 "nbformat": 4,
 "nbformat_minor": 5
}
